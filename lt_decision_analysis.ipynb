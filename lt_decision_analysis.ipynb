{
  "nbformat": 4,
  "nbformat_minor": 0,
  "metadata": {
    "colab": {
      "provenance": [],
      "toc_visible": true,
      "authorship_tag": "ABX9TyPgA9chYZvzayJMR39Zf06p",
      "include_colab_link": true
    },
    "kernelspec": {
      "name": "python3",
      "display_name": "Python 3"
    },
    "language_info": {
      "name": "python"
    }
  },
  "cells": [
    {
      "cell_type": "markdown",
      "metadata": {
        "id": "view-in-github",
        "colab_type": "text"
      },
      "source": [
        "<a href=\"https://colab.research.google.com/github/MasaAsami/LT_DecisionAnalysis/blob/main/lt_decision_analysis.ipynb\" target=\"_parent\"><img src=\"https://colab.research.google.com/assets/colab-badge.svg\" alt=\"Open In Colab\"/></a>"
      ]
    },
    {
      "cell_type": "code",
      "source": [
        "pip install -q matplotlib==3.1.3"
      ],
      "metadata": {
        "colab": {
          "base_uri": "https://localhost:8080/"
        },
        "id": "dPKQ0_89VajA",
        "outputId": "a5de4b3d-fbae-4a93-e31b-f750d36348f3"
      },
      "execution_count": 1,
      "outputs": [
        {
          "output_type": "stream",
          "name": "stdout",
          "text": [
            "\u001b[K     |████████████████████████████████| 13.1 MB 28.9 MB/s \n",
            "\u001b[?25h"
          ]
        }
      ]
    },
    {
      "cell_type": "code",
      "execution_count": 148,
      "metadata": {
        "id": "GDk5u8v2-7cD"
      },
      "outputs": [],
      "source": [
        "#@title import pkg { display-mode: \"form\" }\n",
        "import pandas as pd\n",
        "import numpy as np\n",
        "\n",
        "import matplotlib.pyplot as plt\n",
        "plt.style.use('ggplot')\n",
        "import seaborn as sns\n",
        "# sns.set(context='paper', style='whitegrid', palette='deep')\n",
        "\n",
        "from IPython.display import display\n",
        "%matplotlib inline"
      ]
    },
    {
      "cell_type": "markdown",
      "source": [
        "# 決定分析 : 説明可能な意思決定を目指す\n",
        "- 確定状態における意思決定\n",
        "- 不確実な状態での意思決定\n",
        "- 不完全状態における意思決定\n",
        "    - 展開型 : 周辺分布が期待可能\n",
        "    - 標準型：周辺分布が未知"
      ],
      "metadata": {
        "id": "XNKowsDz_DvA"
      }
    },
    {
      "cell_type": "markdown",
      "source": [
        "## 1 不確実な状態での意思決定\n",
        "### 問題設定\n",
        "まず利得行列を定義する\n",
        "- 政策オプション $a_i \\in A$,    $\\#A$を政策オプション数\n",
        "- 自然状態 $\\theta_j \\in \\Theta$,   $\\#\\Theta$を自然状態数\n",
        "- 利得 $c(a_i, \\theta_j)$ : 状態に応じて、政策オプションの価値が変わる\n",
        "\n",
        "\n",
        "| | $\\theta_1$ | ... |  $\\theta_j$ | ... |  $\\theta_{\\#\\Theta}$ |\n",
        "| --- |  :---: | :---: | :---:| :---: | :---: |\n",
        "| $a_1$ |$$c(a_1,\\theta_1)$$| ... | $$c(a_1, \\theta_j)$$ | ... |$$c(a_1, \\theta_{\\#\\Theta})$$ |\n",
        "|...  | ... | ... | ... | ... |...|\n",
        "| $a_i$ |$c(a_i,\\theta_1)$| ... | $c(a_i, \\theta_j)$ | ... |$c(a_i, \\theta_{\\#\\Theta})$ |\n",
        "|...  | ... | ... | ... | ... |...|\n",
        "| $a_{\\#A}$ |$c(a_{\\#A},\\theta_1)$| ... | $c(a_{\\#A}, \\theta_j)$ | ... |$c(a_{\\#A}, \\theta_{\\#\\Theta})$ |"
      ],
      "metadata": {
        "id": "S3V2uJTU_F8P"
      }
    },
    {
      "cell_type": "markdown",
      "source": [
        "### sample"
      ],
      "metadata": {
        "id": "tw4cUk8h_Pss"
      }
    },
    {
      "cell_type": "code",
      "source": [
        "consequence_table = pd.DataFrame(\n",
        "    {\n",
        "        \"theta1\" : [50, 45, 35, 45],\n",
        "        \"theta2\" : [35, 50, 35, 20],\n",
        "        \"theta3\" : [20, 35, 40, 5],\n",
        "        \"theta4\" : [40, 25, 30, 70]\n",
        "    }\n",
        "    ,index = [\"a1\", \"a2\", \"a3\", \"a4\"]\n",
        ")\n",
        "theta_list = consequence_table.columns\n",
        "consequence_table.style.bar(align='mid',color=['red', 'green'])"
      ],
      "metadata": {
        "colab": {
          "base_uri": "https://localhost:8080/",
          "height": 175
        },
        "id": "eKPhXj9P_FMh",
        "outputId": "2cfe8123-303d-4a28-8008-59d28605e394"
      },
      "execution_count": 3,
      "outputs": [
        {
          "output_type": "execute_result",
          "data": {
            "text/plain": [
              "<pandas.io.formats.style.Styler at 0x7f5951b80040>"
            ],
            "text/html": [
              "<style type=\"text/css\">\n",
              "#T_bc7d2_row0_col0, #T_bc7d2_row1_col1, #T_bc7d2_row2_col2, #T_bc7d2_row3_col3 {\n",
              "  width: 10em;\n",
              "  height: 80%;\n",
              "  background: linear-gradient(90deg,green 100.0%, transparent 100.0%);\n",
              "}\n",
              "#T_bc7d2_row0_col1, #T_bc7d2_row2_col0, #T_bc7d2_row2_col1 {\n",
              "  width: 10em;\n",
              "  height: 80%;\n",
              "  background: linear-gradient(90deg,green 70.0%, transparent 70.0%);\n",
              "}\n",
              "#T_bc7d2_row0_col2 {\n",
              "  width: 10em;\n",
              "  height: 80%;\n",
              "  background: linear-gradient(90deg,green 50.0%, transparent 50.0%);\n",
              "}\n",
              "#T_bc7d2_row0_col3 {\n",
              "  width: 10em;\n",
              "  height: 80%;\n",
              "  background: linear-gradient(90deg,green 57.1%, transparent 57.1%);\n",
              "}\n",
              "#T_bc7d2_row1_col0, #T_bc7d2_row3_col0 {\n",
              "  width: 10em;\n",
              "  height: 80%;\n",
              "  background: linear-gradient(90deg,green 90.0%, transparent 90.0%);\n",
              "}\n",
              "#T_bc7d2_row1_col2 {\n",
              "  width: 10em;\n",
              "  height: 80%;\n",
              "  background: linear-gradient(90deg,green 87.5%, transparent 87.5%);\n",
              "}\n",
              "#T_bc7d2_row1_col3 {\n",
              "  width: 10em;\n",
              "  height: 80%;\n",
              "  background: linear-gradient(90deg,green 35.7%, transparent 35.7%);\n",
              "}\n",
              "#T_bc7d2_row2_col3 {\n",
              "  width: 10em;\n",
              "  height: 80%;\n",
              "  background: linear-gradient(90deg,green 42.9%, transparent 42.9%);\n",
              "}\n",
              "#T_bc7d2_row3_col1 {\n",
              "  width: 10em;\n",
              "  height: 80%;\n",
              "  background: linear-gradient(90deg,green 40.0%, transparent 40.0%);\n",
              "}\n",
              "#T_bc7d2_row3_col2 {\n",
              "  width: 10em;\n",
              "  height: 80%;\n",
              "  background: linear-gradient(90deg,green 12.5%, transparent 12.5%);\n",
              "}\n",
              "</style>\n",
              "<table id=\"T_bc7d2_\" class=\"dataframe\">\n",
              "  <thead>\n",
              "    <tr>\n",
              "      <th class=\"blank level0\" >&nbsp;</th>\n",
              "      <th class=\"col_heading level0 col0\" >theta1</th>\n",
              "      <th class=\"col_heading level0 col1\" >theta2</th>\n",
              "      <th class=\"col_heading level0 col2\" >theta3</th>\n",
              "      <th class=\"col_heading level0 col3\" >theta4</th>\n",
              "    </tr>\n",
              "  </thead>\n",
              "  <tbody>\n",
              "    <tr>\n",
              "      <th id=\"T_bc7d2_level0_row0\" class=\"row_heading level0 row0\" >a1</th>\n",
              "      <td id=\"T_bc7d2_row0_col0\" class=\"data row0 col0\" >50</td>\n",
              "      <td id=\"T_bc7d2_row0_col1\" class=\"data row0 col1\" >35</td>\n",
              "      <td id=\"T_bc7d2_row0_col2\" class=\"data row0 col2\" >20</td>\n",
              "      <td id=\"T_bc7d2_row0_col3\" class=\"data row0 col3\" >40</td>\n",
              "    </tr>\n",
              "    <tr>\n",
              "      <th id=\"T_bc7d2_level0_row1\" class=\"row_heading level0 row1\" >a2</th>\n",
              "      <td id=\"T_bc7d2_row1_col0\" class=\"data row1 col0\" >45</td>\n",
              "      <td id=\"T_bc7d2_row1_col1\" class=\"data row1 col1\" >50</td>\n",
              "      <td id=\"T_bc7d2_row1_col2\" class=\"data row1 col2\" >35</td>\n",
              "      <td id=\"T_bc7d2_row1_col3\" class=\"data row1 col3\" >25</td>\n",
              "    </tr>\n",
              "    <tr>\n",
              "      <th id=\"T_bc7d2_level0_row2\" class=\"row_heading level0 row2\" >a3</th>\n",
              "      <td id=\"T_bc7d2_row2_col0\" class=\"data row2 col0\" >35</td>\n",
              "      <td id=\"T_bc7d2_row2_col1\" class=\"data row2 col1\" >35</td>\n",
              "      <td id=\"T_bc7d2_row2_col2\" class=\"data row2 col2\" >40</td>\n",
              "      <td id=\"T_bc7d2_row2_col3\" class=\"data row2 col3\" >30</td>\n",
              "    </tr>\n",
              "    <tr>\n",
              "      <th id=\"T_bc7d2_level0_row3\" class=\"row_heading level0 row3\" >a4</th>\n",
              "      <td id=\"T_bc7d2_row3_col0\" class=\"data row3 col0\" >45</td>\n",
              "      <td id=\"T_bc7d2_row3_col1\" class=\"data row3 col1\" >20</td>\n",
              "      <td id=\"T_bc7d2_row3_col2\" class=\"data row3 col2\" >5</td>\n",
              "      <td id=\"T_bc7d2_row3_col3\" class=\"data row3 col3\" >70</td>\n",
              "    </tr>\n",
              "  </tbody>\n",
              "</table>\n"
            ]
          },
          "metadata": {},
          "execution_count": 3
        }
      ]
    },
    {
      "cell_type": "code",
      "source": [
        "print(\n",
        "    \"そろぞれの自然状態における最適政策オプション : \\n\",\n",
        "    consequence_table.idxmax()\n",
        ")"
      ],
      "metadata": {
        "colab": {
          "base_uri": "https://localhost:8080/"
        },
        "id": "jABvdD44_QYx",
        "outputId": "4a57acee-a5d3-45a2-d959-491963cb22d2"
      },
      "execution_count": 4,
      "outputs": [
        {
          "output_type": "stream",
          "name": "stdout",
          "text": [
            "そろぞれの自然状態における最適政策オプション : \n",
            " theta1    a1\n",
            "theta2    a2\n",
            "theta3    a3\n",
            "theta4    a4\n",
            "dtype: object\n"
          ]
        }
      ]
    },
    {
      "cell_type": "markdown",
      "source": [
        "### 決定基準を選ぶ\n",
        "- 自分たちの目的や政策の質を鑑み、適切な決定基準を決定する"
      ],
      "metadata": {
        "id": "AlpP9h7J_bew"
      }
    },
    {
      "cell_type": "markdown",
      "source": [
        "#### Maximax基準\n",
        "- 楽観的な基準\n",
        "- 最大利得が発生する自然状態を仮定して、その利得が最大になる政策オプションそ選択する"
      ],
      "metadata": {
        "id": "-WK7L_gq_diT"
      }
    },
    {
      "cell_type": "code",
      "source": [
        "print(\"最大利得が発生する自然状態 :\", consequence_table.max().idxmax())\n",
        "print(\"Maximax基準 :\", consequence_table[consequence_table.max().idxmax()].idxmax())"
      ],
      "metadata": {
        "colab": {
          "base_uri": "https://localhost:8080/"
        },
        "id": "CnTyCdqN_YSC",
        "outputId": "53097dcf-d233-4c2e-c85c-f4601ab257a4"
      },
      "execution_count": 5,
      "outputs": [
        {
          "output_type": "stream",
          "name": "stdout",
          "text": [
            "最大利得が発生する自然状態 : theta4\n",
            "Maximax基準 : a4\n"
          ]
        }
      ]
    },
    {
      "cell_type": "markdown",
      "source": [
        "#### Maximin基準\n",
        "- 悲観的な基準\n",
        "- 最小利得が発生する自然状態を仮定して、その利得が最大になる政策オプションそ選択する"
      ],
      "metadata": {
        "id": "xr4B2ZF6_na3"
      }
    },
    {
      "cell_type": "code",
      "source": [
        "print(\"最小利得が発生する自然状態 :\", consequence_table.min().idxmin())\n",
        "print(\"Maximax基準 :\", consequence_table[consequence_table.min().idxmin()].idxmax())"
      ],
      "metadata": {
        "colab": {
          "base_uri": "https://localhost:8080/"
        },
        "id": "hui4Ddlj_hF_",
        "outputId": "27a33c7f-4cde-44d1-8d63-4c6d39ea3286"
      },
      "execution_count": 6,
      "outputs": [
        {
          "output_type": "stream",
          "name": "stdout",
          "text": [
            "最小利得が発生する自然状態 : theta3\n",
            "Maximax基準 : a3\n"
          ]
        }
      ]
    },
    {
      "cell_type": "markdown",
      "source": [
        "#### Hurwicz基準\n",
        "- 楽観と悲観のバランスをとる\n",
        "- 楽観度を示すハイパーパラメータ $\\alpha \\in [0, 1]$\n",
        "$$\n",
        "\\lambda_{Hurwicz}(a_i) = \\alpha*max_{j}[c(a_i, \\theta_j)] + (1 - \\alpha)*min_{j}[c(a_i, \\theta_j)]\n",
        "$$\n",
        "$$\n",
        "a^{Hurwicz} = argmax_{a_i}[\\lambda_{Hurwicz}(a_i)]\n",
        "$$"
      ],
      "metadata": {
        "id": "-mVLhlVx_svn"
      }
    },
    {
      "cell_type": "code",
      "source": [
        "alpha = 0.6\n",
        "print(consequence_table.T.max()*alpha + consequence_table.T.min()*(1-alpha))\n",
        "print(\n",
        "    f\"Hurwicz基準(alpha={alpha}) : \"\n",
        "    , (consequence_table.T.max()*alpha + consequence_table.T.min()*(1-alpha)).idxmax()\n",
        ")"
      ],
      "metadata": {
        "colab": {
          "base_uri": "https://localhost:8080/"
        },
        "id": "GDqkXvpv_qMk",
        "outputId": "3a271192-8620-4359-ccb9-83aeb0d208f2"
      },
      "execution_count": 7,
      "outputs": [
        {
          "output_type": "stream",
          "name": "stdout",
          "text": [
            "a1    38.0\n",
            "a2    40.0\n",
            "a3    36.0\n",
            "a4    44.0\n",
            "dtype: float64\n",
            "Hurwicz基準(alpha=0.6) :  a4\n"
          ]
        }
      ]
    },
    {
      "cell_type": "code",
      "source": [
        "_alpha = 0.6 #@param {type:\"slider\", min:0, max:1, step:0.1}\n",
        "\n",
        "hurwicz_sim = pd.concat(\n",
        "    [consequence_table.T.max()*_a + consequence_table.T.min()*(1-_a) for _a in [0, 0.5, 1]]\n",
        "    ,axis=1\n",
        ").T\n",
        "hurwicz_sim.index = [0, 0.5, 1]\n",
        "hurwicz_sim.plot()\n",
        "plt.xlabel('aplha')\n",
        "plt.axvline(x=_alpha, color='black', linestyle='--')\n",
        "plt.show()"
      ],
      "metadata": {
        "colab": {
          "base_uri": "https://localhost:8080/",
          "height": 280
        },
        "id": "ZBYfSTpk_vLo",
        "outputId": "8b199249-072f-4886-b2cc-467f584dd1c4"
      },
      "execution_count": 8,
      "outputs": [
        {
          "output_type": "display_data",
          "data": {
            "text/plain": [
              "<Figure size 432x288 with 1 Axes>"
            ],
            "image/png": "[encoded data removed]"
          },
          "metadata": {
            "needs_background": "light"
          }
        }
      ]
    },
    {
      "cell_type": "markdown",
      "source": [
        "#### Minimax regret 基準 (Savage 基準)\n",
        "- 後悔(regret)の大きさを最大値を最小にする基準\n",
        "- まずregret $r(a_i, \\theta_j)$ を以下の通り定義する\n",
        "$$\n",
        "r(a_i, \\theta_j) = max_{a_i} [c(a_i, \\theta_j) ] - c(a_i, \\theta_j)\n",
        "$$\n"
      ],
      "metadata": {
        "id": "w0MCAm_LPLrN"
      }
    },
    {
      "cell_type": "code",
      "source": [
        "# 以下が利得行列\n",
        "consequence_table.style.bar(align='mid',color=['red', 'green'])"
      ],
      "metadata": {
        "colab": {
          "base_uri": "https://localhost:8080/",
          "height": 175
        },
        "id": "HKv4vP5f_zEK",
        "outputId": "92318b2d-3462-48da-ebac-320fb2c7bc8d"
      },
      "execution_count": 9,
      "outputs": [
        {
          "output_type": "execute_result",
          "data": {
            "text/plain": [
              "<pandas.io.formats.style.Styler at 0x7f59426f8070>"
            ],
            "text/html": [
              "<style type=\"text/css\">\n",
              "#T_cdaba_row0_col0, #T_cdaba_row1_col1, #T_cdaba_row2_col2, #T_cdaba_row3_col3 {\n",
              "  width: 10em;\n",
              "  height: 80%;\n",
              "  background: linear-gradient(90deg,green 100.0%, transparent 100.0%);\n",
              "}\n",
              "#T_cdaba_row0_col1, #T_cdaba_row2_col0, #T_cdaba_row2_col1 {\n",
              "  width: 10em;\n",
              "  height: 80%;\n",
              "  background: linear-gradient(90deg,green 70.0%, transparent 70.0%);\n",
              "}\n",
              "#T_cdaba_row0_col2 {\n",
              "  width: 10em;\n",
              "  height: 80%;\n",
              "  background: linear-gradient(90deg,green 50.0%, transparent 50.0%);\n",
              "}\n",
              "#T_cdaba_row0_col3 {\n",
              "  width: 10em;\n",
              "  height: 80%;\n",
              "  background: linear-gradient(90deg,green 57.1%, transparent 57.1%);\n",
              "}\n",
              "#T_cdaba_row1_col0, #T_cdaba_row3_col0 {\n",
              "  width: 10em;\n",
              "  height: 80%;\n",
              "  background: linear-gradient(90deg,green 90.0%, transparent 90.0%);\n",
              "}\n",
              "#T_cdaba_row1_col2 {\n",
              "  width: 10em;\n",
              "  height: 80%;\n",
              "  background: linear-gradient(90deg,green 87.5%, transparent 87.5%);\n",
              "}\n",
              "#T_cdaba_row1_col3 {\n",
              "  width: 10em;\n",
              "  height: 80%;\n",
              "  background: linear-gradient(90deg,green 35.7%, transparent 35.7%);\n",
              "}\n",
              "#T_cdaba_row2_col3 {\n",
              "  width: 10em;\n",
              "  height: 80%;\n",
              "  background: linear-gradient(90deg,green 42.9%, transparent 42.9%);\n",
              "}\n",
              "#T_cdaba_row3_col1 {\n",
              "  width: 10em;\n",
              "  height: 80%;\n",
              "  background: linear-gradient(90deg,green 40.0%, transparent 40.0%);\n",
              "}\n",
              "#T_cdaba_row3_col2 {\n",
              "  width: 10em;\n",
              "  height: 80%;\n",
              "  background: linear-gradient(90deg,green 12.5%, transparent 12.5%);\n",
              "}\n",
              "</style>\n",
              "<table id=\"T_cdaba_\" class=\"dataframe\">\n",
              "  <thead>\n",
              "    <tr>\n",
              "      <th class=\"blank level0\" >&nbsp;</th>\n",
              "      <th class=\"col_heading level0 col0\" >theta1</th>\n",
              "      <th class=\"col_heading level0 col1\" >theta2</th>\n",
              "      <th class=\"col_heading level0 col2\" >theta3</th>\n",
              "      <th class=\"col_heading level0 col3\" >theta4</th>\n",
              "    </tr>\n",
              "  </thead>\n",
              "  <tbody>\n",
              "    <tr>\n",
              "      <th id=\"T_cdaba_level0_row0\" class=\"row_heading level0 row0\" >a1</th>\n",
              "      <td id=\"T_cdaba_row0_col0\" class=\"data row0 col0\" >50</td>\n",
              "      <td id=\"T_cdaba_row0_col1\" class=\"data row0 col1\" >35</td>\n",
              "      <td id=\"T_cdaba_row0_col2\" class=\"data row0 col2\" >20</td>\n",
              "      <td id=\"T_cdaba_row0_col3\" class=\"data row0 col3\" >40</td>\n",
              "    </tr>\n",
              "    <tr>\n",
              "      <th id=\"T_cdaba_level0_row1\" class=\"row_heading level0 row1\" >a2</th>\n",
              "      <td id=\"T_cdaba_row1_col0\" class=\"data row1 col0\" >45</td>\n",
              "      <td id=\"T_cdaba_row1_col1\" class=\"data row1 col1\" >50</td>\n",
              "      <td id=\"T_cdaba_row1_col2\" class=\"data row1 col2\" >35</td>\n",
              "      <td id=\"T_cdaba_row1_col3\" class=\"data row1 col3\" >25</td>\n",
              "    </tr>\n",
              "    <tr>\n",
              "      <th id=\"T_cdaba_level0_row2\" class=\"row_heading level0 row2\" >a3</th>\n",
              "      <td id=\"T_cdaba_row2_col0\" class=\"data row2 col0\" >35</td>\n",
              "      <td id=\"T_cdaba_row2_col1\" class=\"data row2 col1\" >35</td>\n",
              "      <td id=\"T_cdaba_row2_col2\" class=\"data row2 col2\" >40</td>\n",
              "      <td id=\"T_cdaba_row2_col3\" class=\"data row2 col3\" >30</td>\n",
              "    </tr>\n",
              "    <tr>\n",
              "      <th id=\"T_cdaba_level0_row3\" class=\"row_heading level0 row3\" >a4</th>\n",
              "      <td id=\"T_cdaba_row3_col0\" class=\"data row3 col0\" >45</td>\n",
              "      <td id=\"T_cdaba_row3_col1\" class=\"data row3 col1\" >20</td>\n",
              "      <td id=\"T_cdaba_row3_col2\" class=\"data row3 col2\" >5</td>\n",
              "      <td id=\"T_cdaba_row3_col3\" class=\"data row3 col3\" >70</td>\n",
              "    </tr>\n",
              "  </tbody>\n",
              "</table>\n"
            ]
          },
          "metadata": {},
          "execution_count": 9
        }
      ]
    },
    {
      "cell_type": "code",
      "source": [
        "# regret matrix\n",
        "regret_table = consequence_table.max() - consequence_table\n",
        "regret_table.style.bar(align='mid',color=['green', 'red'])"
      ],
      "metadata": {
        "colab": {
          "base_uri": "https://localhost:8080/",
          "height": 175
        },
        "id": "VjiyAb6URtUS",
        "outputId": "f4120a0b-1ebf-4da2-d9db-09874877e5df"
      },
      "execution_count": 10,
      "outputs": [
        {
          "output_type": "execute_result",
          "data": {
            "text/plain": [
              "<pandas.io.formats.style.Styler at 0x7f59426f8220>"
            ],
            "text/html": [
              "<style type=\"text/css\">\n",
              "#T_30741_row0_col0, #T_30741_row1_col1, #T_30741_row2_col2, #T_30741_row3_col3 {\n",
              "  width: 10em;\n",
              "  height: 80%;\n",
              "}\n",
              "#T_30741_row0_col1, #T_30741_row2_col1 {\n",
              "  width: 10em;\n",
              "  height: 80%;\n",
              "  background: linear-gradient(90deg,red 50.0%, transparent 50.0%);\n",
              "}\n",
              "#T_30741_row0_col2 {\n",
              "  width: 10em;\n",
              "  height: 80%;\n",
              "  background: linear-gradient(90deg,red 57.1%, transparent 57.1%);\n",
              "}\n",
              "#T_30741_row0_col3 {\n",
              "  width: 10em;\n",
              "  height: 80%;\n",
              "  background: linear-gradient(90deg,red 66.7%, transparent 66.7%);\n",
              "}\n",
              "#T_30741_row1_col0, #T_30741_row3_col0 {\n",
              "  width: 10em;\n",
              "  height: 80%;\n",
              "  background: linear-gradient(90deg,red 33.3%, transparent 33.3%);\n",
              "}\n",
              "#T_30741_row1_col2 {\n",
              "  width: 10em;\n",
              "  height: 80%;\n",
              "  background: linear-gradient(90deg,red 14.3%, transparent 14.3%);\n",
              "}\n",
              "#T_30741_row1_col3, #T_30741_row2_col0, #T_30741_row3_col1, #T_30741_row3_col2 {\n",
              "  width: 10em;\n",
              "  height: 80%;\n",
              "  background: linear-gradient(90deg,red 100.0%, transparent 100.0%);\n",
              "}\n",
              "#T_30741_row2_col3 {\n",
              "  width: 10em;\n",
              "  height: 80%;\n",
              "  background: linear-gradient(90deg,red 88.9%, transparent 88.9%);\n",
              "}\n",
              "</style>\n",
              "<table id=\"T_30741_\" class=\"dataframe\">\n",
              "  <thead>\n",
              "    <tr>\n",
              "      <th class=\"blank level0\" >&nbsp;</th>\n",
              "      <th class=\"col_heading level0 col0\" >theta1</th>\n",
              "      <th class=\"col_heading level0 col1\" >theta2</th>\n",
              "      <th class=\"col_heading level0 col2\" >theta3</th>\n",
              "      <th class=\"col_heading level0 col3\" >theta4</th>\n",
              "    </tr>\n",
              "  </thead>\n",
              "  <tbody>\n",
              "    <tr>\n",
              "      <th id=\"T_30741_level0_row0\" class=\"row_heading level0 row0\" >a1</th>\n",
              "      <td id=\"T_30741_row0_col0\" class=\"data row0 col0\" >0</td>\n",
              "      <td id=\"T_30741_row0_col1\" class=\"data row0 col1\" >15</td>\n",
              "      <td id=\"T_30741_row0_col2\" class=\"data row0 col2\" >20</td>\n",
              "      <td id=\"T_30741_row0_col3\" class=\"data row0 col3\" >30</td>\n",
              "    </tr>\n",
              "    <tr>\n",
              "      <th id=\"T_30741_level0_row1\" class=\"row_heading level0 row1\" >a2</th>\n",
              "      <td id=\"T_30741_row1_col0\" class=\"data row1 col0\" >5</td>\n",
              "      <td id=\"T_30741_row1_col1\" class=\"data row1 col1\" >0</td>\n",
              "      <td id=\"T_30741_row1_col2\" class=\"data row1 col2\" >5</td>\n",
              "      <td id=\"T_30741_row1_col3\" class=\"data row1 col3\" >45</td>\n",
              "    </tr>\n",
              "    <tr>\n",
              "      <th id=\"T_30741_level0_row2\" class=\"row_heading level0 row2\" >a3</th>\n",
              "      <td id=\"T_30741_row2_col0\" class=\"data row2 col0\" >15</td>\n",
              "      <td id=\"T_30741_row2_col1\" class=\"data row2 col1\" >15</td>\n",
              "      <td id=\"T_30741_row2_col2\" class=\"data row2 col2\" >0</td>\n",
              "      <td id=\"T_30741_row2_col3\" class=\"data row2 col3\" >40</td>\n",
              "    </tr>\n",
              "    <tr>\n",
              "      <th id=\"T_30741_level0_row3\" class=\"row_heading level0 row3\" >a4</th>\n",
              "      <td id=\"T_30741_row3_col0\" class=\"data row3 col0\" >5</td>\n",
              "      <td id=\"T_30741_row3_col1\" class=\"data row3 col1\" >30</td>\n",
              "      <td id=\"T_30741_row3_col2\" class=\"data row3 col2\" >35</td>\n",
              "      <td id=\"T_30741_row3_col3\" class=\"data row3 col3\" >0</td>\n",
              "    </tr>\n",
              "  </tbody>\n",
              "</table>\n"
            ]
          },
          "metadata": {},
          "execution_count": 10
        }
      ]
    },
    {
      "cell_type": "code",
      "source": [
        "print(\"各政策オプションの最大regret :\\n\", regret_table.T.max())\n",
        "print(\"Minimax regret 基準 :\", regret_table.T.max().idxmin())"
      ],
      "metadata": {
        "colab": {
          "base_uri": "https://localhost:8080/"
        },
        "id": "pakmmyCbSjf0",
        "outputId": "fba85e45-f793-4eaa-8dd6-8b9822f812fd"
      },
      "execution_count": 11,
      "outputs": [
        {
          "output_type": "stream",
          "name": "stdout",
          "text": [
            "各政策オプションの最大regret :\n",
            " a1    30\n",
            "a2    45\n",
            "a3    40\n",
            "a4    35\n",
            "dtype: int64\n",
            "Minimax regret 基準 : a1\n"
          ]
        }
      ]
    },
    {
      "cell_type": "markdown",
      "source": [
        "#### Laplace 基準\n",
        "- 各政策オプションごとの利得について算術平均を計算\n",
        "- その最大値を採択する\n",
        "$$\n",
        "\\lambda_{Laplace}(a_i) = \\dfrac{1}{\\#\\Theta} \\sum_{j}^{\\#\\Theta} c(a_i, \\theta_j)\n",
        "$$\n",
        "$$\n",
        "a^{Laplace} = argmax_{a_i}\\lambda_{Laplace}(a_i) \n",
        "$$"
      ],
      "metadata": {
        "id": "QSYiN3-BTmZt"
      }
    },
    {
      "cell_type": "code",
      "source": [
        "print(\"各政策オプションの平均利得 :\\n\", consequence_table.T.mean())\n",
        "print(\"Laplace 基準 :\", consequence_table.T.mean().idxmax())"
      ],
      "metadata": {
        "colab": {
          "base_uri": "https://localhost:8080/"
        },
        "id": "BiAYhzEbS9nA",
        "outputId": "ead1f30f-ec14-4888-c15e-bfdb2dc7edca"
      },
      "execution_count": 12,
      "outputs": [
        {
          "output_type": "stream",
          "name": "stdout",
          "text": [
            "各政策オプションの平均利得 :\n",
            " a1    36.25\n",
            "a2    38.75\n",
            "a3    35.00\n",
            "a4    35.00\n",
            "dtype: float64\n",
            "Laplace 基準 : a2\n"
          ]
        }
      ]
    },
    {
      "cell_type": "markdown",
      "source": [
        "## 不完全状態における意思決定\n",
        "### 展開型意思決定\n",
        "- 自然状態の情報（周辺分布）がわかれば、それの期待値をもとに意思決定できるはず\n",
        "\n"
      ],
      "metadata": {
        "id": "OJlosFuzTOQR"
      }
    },
    {
      "cell_type": "markdown",
      "source": [
        "意思決定問題 D={$A, \\Theta, c, P(\\theta)$}とする。\n",
        "\n",
        "|  | $\\theta_1$ | ... |  $\\theta_j$ | ... |  $\\theta_{\\#\\Theta}$ |\n",
        "| --- |  :---: | :---: | :---:| :---: | :---: |\n",
        "| $a_1$ |$$c(a_1,\\theta_1)$$| ... | $$c(a_1, \\theta_j)$$ | ... |$$c(a_1, \\theta_{\\#\\Theta})$$ |\n",
        "|...  | ... | ... | ... | ... |...|\n",
        "| $a_i$ |$c(a_i,\\theta_1)$| ... | $c(a_i, \\theta_j)$ | ... |$c(a_i, \\theta_{\\#\\Theta})$ |\n",
        "|...  | ... | ... | ... | ... |...|\n",
        "| $a_{\\#A}$ |$c(a_{\\#A},\\theta_1)$| ... | $c(a_{\\#A}, \\theta_j)$ | ... |$c(a_{\\#A}, \\theta_{\\#\\Theta})$ |\n",
        "\n",
        "+\n",
        "\n",
        "|  | $\\theta_1$ | ... |  $\\theta_j$ | ... |  $\\theta_{\\#\\Theta}$ |\n",
        "| --- |  :---: | :---: | :---:| :---: | :---: |\n",
        "| $a_1$ |$$P(\\theta_1)$$| ... | $$P(\\theta_j)$$ | ... |$$P(\\theta_{\\#\\Theta})$$ |"
      ],
      "metadata": {
        "id": "skTNihx8zaMW"
      }
    },
    {
      "cell_type": "code",
      "source": [
        "consequence_table.style.bar(align='mid',color=['red', 'green'])"
      ],
      "metadata": {
        "colab": {
          "base_uri": "https://localhost:8080/",
          "height": 175
        },
        "id": "94ugjdpo1Ea-",
        "outputId": "40c8d076-46ac-47d0-80b7-ae253c8d3e1c"
      },
      "execution_count": 13,
      "outputs": [
        {
          "output_type": "execute_result",
          "data": {
            "text/plain": [
              "<pandas.io.formats.style.Styler at 0x7f594270d9d0>"
            ],
            "text/html": [
              "<style type=\"text/css\">\n",
              "#T_deb04_row0_col0, #T_deb04_row1_col1, #T_deb04_row2_col2, #T_deb04_row3_col3 {\n",
              "  width: 10em;\n",
              "  height: 80%;\n",
              "  background: linear-gradient(90deg,green 100.0%, transparent 100.0%);\n",
              "}\n",
              "#T_deb04_row0_col1, #T_deb04_row2_col0, #T_deb04_row2_col1 {\n",
              "  width: 10em;\n",
              "  height: 80%;\n",
              "  background: linear-gradient(90deg,green 70.0%, transparent 70.0%);\n",
              "}\n",
              "#T_deb04_row0_col2 {\n",
              "  width: 10em;\n",
              "  height: 80%;\n",
              "  background: linear-gradient(90deg,green 50.0%, transparent 50.0%);\n",
              "}\n",
              "#T_deb04_row0_col3 {\n",
              "  width: 10em;\n",
              "  height: 80%;\n",
              "  background: linear-gradient(90deg,green 57.1%, transparent 57.1%);\n",
              "}\n",
              "#T_deb04_row1_col0, #T_deb04_row3_col0 {\n",
              "  width: 10em;\n",
              "  height: 80%;\n",
              "  background: linear-gradient(90deg,green 90.0%, transparent 90.0%);\n",
              "}\n",
              "#T_deb04_row1_col2 {\n",
              "  width: 10em;\n",
              "  height: 80%;\n",
              "  background: linear-gradient(90deg,green 87.5%, transparent 87.5%);\n",
              "}\n",
              "#T_deb04_row1_col3 {\n",
              "  width: 10em;\n",
              "  height: 80%;\n",
              "  background: linear-gradient(90deg,green 35.7%, transparent 35.7%);\n",
              "}\n",
              "#T_deb04_row2_col3 {\n",
              "  width: 10em;\n",
              "  height: 80%;\n",
              "  background: linear-gradient(90deg,green 42.9%, transparent 42.9%);\n",
              "}\n",
              "#T_deb04_row3_col1 {\n",
              "  width: 10em;\n",
              "  height: 80%;\n",
              "  background: linear-gradient(90deg,green 40.0%, transparent 40.0%);\n",
              "}\n",
              "#T_deb04_row3_col2 {\n",
              "  width: 10em;\n",
              "  height: 80%;\n",
              "  background: linear-gradient(90deg,green 12.5%, transparent 12.5%);\n",
              "}\n",
              "</style>\n",
              "<table id=\"T_deb04_\" class=\"dataframe\">\n",
              "  <thead>\n",
              "    <tr>\n",
              "      <th class=\"blank level0\" >&nbsp;</th>\n",
              "      <th class=\"col_heading level0 col0\" >theta1</th>\n",
              "      <th class=\"col_heading level0 col1\" >theta2</th>\n",
              "      <th class=\"col_heading level0 col2\" >theta3</th>\n",
              "      <th class=\"col_heading level0 col3\" >theta4</th>\n",
              "    </tr>\n",
              "  </thead>\n",
              "  <tbody>\n",
              "    <tr>\n",
              "      <th id=\"T_deb04_level0_row0\" class=\"row_heading level0 row0\" >a1</th>\n",
              "      <td id=\"T_deb04_row0_col0\" class=\"data row0 col0\" >50</td>\n",
              "      <td id=\"T_deb04_row0_col1\" class=\"data row0 col1\" >35</td>\n",
              "      <td id=\"T_deb04_row0_col2\" class=\"data row0 col2\" >20</td>\n",
              "      <td id=\"T_deb04_row0_col3\" class=\"data row0 col3\" >40</td>\n",
              "    </tr>\n",
              "    <tr>\n",
              "      <th id=\"T_deb04_level0_row1\" class=\"row_heading level0 row1\" >a2</th>\n",
              "      <td id=\"T_deb04_row1_col0\" class=\"data row1 col0\" >45</td>\n",
              "      <td id=\"T_deb04_row1_col1\" class=\"data row1 col1\" >50</td>\n",
              "      <td id=\"T_deb04_row1_col2\" class=\"data row1 col2\" >35</td>\n",
              "      <td id=\"T_deb04_row1_col3\" class=\"data row1 col3\" >25</td>\n",
              "    </tr>\n",
              "    <tr>\n",
              "      <th id=\"T_deb04_level0_row2\" class=\"row_heading level0 row2\" >a3</th>\n",
              "      <td id=\"T_deb04_row2_col0\" class=\"data row2 col0\" >35</td>\n",
              "      <td id=\"T_deb04_row2_col1\" class=\"data row2 col1\" >35</td>\n",
              "      <td id=\"T_deb04_row2_col2\" class=\"data row2 col2\" >40</td>\n",
              "      <td id=\"T_deb04_row2_col3\" class=\"data row2 col3\" >30</td>\n",
              "    </tr>\n",
              "    <tr>\n",
              "      <th id=\"T_deb04_level0_row3\" class=\"row_heading level0 row3\" >a4</th>\n",
              "      <td id=\"T_deb04_row3_col0\" class=\"data row3 col0\" >45</td>\n",
              "      <td id=\"T_deb04_row3_col1\" class=\"data row3 col1\" >20</td>\n",
              "      <td id=\"T_deb04_row3_col2\" class=\"data row3 col2\" >5</td>\n",
              "      <td id=\"T_deb04_row3_col3\" class=\"data row3 col3\" >70</td>\n",
              "    </tr>\n",
              "  </tbody>\n",
              "</table>\n"
            ]
          },
          "metadata": {},
          "execution_count": 13
        }
      ]
    },
    {
      "cell_type": "code",
      "source": [
        "prob_table = pd.DataFrame(\n",
        "    {\n",
        "        \"theta1\" : [0.4],\n",
        "        \"theta2\" : [0.2],\n",
        "        \"theta3\" : [0.3],\n",
        "        \"theta4\" : [0.1]\n",
        "    }\n",
        ")\n",
        "\n",
        "assert int(prob_table.sum(axis=1).values)  == 1\n",
        "prob_table"
      ],
      "metadata": {
        "colab": {
          "base_uri": "https://localhost:8080/",
          "height": 81
        },
        "id": "r5kKBCcP10O5",
        "outputId": "c89865c3-9aba-40e4-92d5-cdf86a2ad120"
      },
      "execution_count": 14,
      "outputs": [
        {
          "output_type": "execute_result",
          "data": {
            "text/plain": [
              "   theta1  theta2  theta3  theta4\n",
              "0     0.4     0.2     0.3     0.1"
            ],
            "text/html": [
              "\n",
              "  <div id=\"df-ec4fa447-bf6c-40b2-abf6-ec6d30b3f769\">\n",
              "    <div class=\"colab-df-container\">\n",
              "      <div>\n",
              "<style scoped>\n",
              "    .dataframe tbody tr th:only-of-type {\n",
              "        vertical-align: middle;\n",
              "    }\n",
              "\n",
              "    .dataframe tbody tr th {\n",
              "        vertical-align: top;\n",
              "    }\n",
              "\n",
              "    .dataframe thead th {\n",
              "        text-align: right;\n",
              "    }\n",
              "</style>\n",
              "<table border=\"1\" class=\"dataframe\">\n",
              "  <thead>\n",
              "    <tr style=\"text-align: right;\">\n",
              "      <th></th>\n",
              "      <th>theta1</th>\n",
              "      <th>theta2</th>\n",
              "      <th>theta3</th>\n",
              "      <th>theta4</th>\n",
              "    </tr>\n",
              "  </thead>\n",
              "  <tbody>\n",
              "    <tr>\n",
              "      <th>0</th>\n",
              "      <td>0.4</td>\n",
              "      <td>0.2</td>\n",
              "      <td>0.3</td>\n",
              "      <td>0.1</td>\n",
              "    </tr>\n",
              "  </tbody>\n",
              "</table>\n",
              "</div>\n",
              "      <button class=\"colab-df-convert\" onclick=\"convertToInteractive('df-ec4fa447-bf6c-40b2-abf6-ec6d30b3f769')\"\n",
              "              title=\"Convert this dataframe to an interactive table.\"\n",
              "              style=\"display:none;\">\n",
              "        \n",
              "  <svg xmlns=\"http://www.w3.org/2000/svg\" height=\"24px\"viewBox=\"0 0 24 24\"\n",
              "       width=\"24px\">\n",
              "    <path d=\"M0 0h24v24H0V0z\" fill=\"none\"/>\n",
              "    <path d=\"M18.56 5.44l.94 2.06.94-2.06 2.06-.94-2.06-.94-.94-2.06-.94 2.06-2.06.94zm-11 1L8.5 8.5l.94-2.06 2.06-.94-2.06-.94L8.5 2.5l-.94 2.06-2.06.94zm10 10l.94 2.06.94-2.06 2.06-.94-2.06-.94-.94-2.06-.94 2.06-2.06.94z\"/><path d=\"M17.41 7.96l-1.37-1.37c-.4-.4-.92-.59-1.43-.59-.52 0-1.04.2-1.43.59L10.3 9.45l-7.72 7.72c-.78.78-.78 2.05 0 2.83L4 21.41c.39.39.9.59 1.41.59.51 0 1.02-.2 1.41-.59l7.78-7.78 2.81-2.81c.8-.78.8-2.07 0-2.86zM5.41 20L4 18.59l7.72-7.72 1.47 1.35L5.41 20z\"/>\n",
              "  </svg>\n",
              "      </button>\n",
              "      \n",
              "  <style>\n",
              "    .colab-df-container {\n",
              "      display:flex;\n",
              "      flex-wrap:wrap;\n",
              "      gap: 12px;\n",
              "    }\n",
              "\n",
              "    .colab-df-convert {\n",
              "      background-color: #E8F0FE;\n",
              "      border: none;\n",
              "      border-radius: 50%;\n",
              "      cursor: pointer;\n",
              "      display: none;\n",
              "      fill: #1967D2;\n",
              "      height: 32px;\n",
              "      padding: 0 0 0 0;\n",
              "      width: 32px;\n",
              "    }\n",
              "\n",
              "    .colab-df-convert:hover {\n",
              "      background-color: #E2EBFA;\n",
              "      box-shadow: 0px 1px 2px rgba(60, 64, 67, 0.3), 0px 1px 3px 1px rgba(60, 64, 67, 0.15);\n",
              "      fill: #174EA6;\n",
              "    }\n",
              "\n",
              "    [theme=dark] .colab-df-convert {\n",
              "      background-color: #3B4455;\n",
              "      fill: #D2E3FC;\n",
              "    }\n",
              "\n",
              "    [theme=dark] .colab-df-convert:hover {\n",
              "      background-color: #434B5C;\n",
              "      box-shadow: 0px 1px 3px 1px rgba(0, 0, 0, 0.15);\n",
              "      filter: drop-shadow(0px 1px 2px rgba(0, 0, 0, 0.3));\n",
              "      fill: #FFFFFF;\n",
              "    }\n",
              "  </style>\n",
              "\n",
              "      <script>\n",
              "        const buttonEl =\n",
              "          document.querySelector('#df-ec4fa447-bf6c-40b2-abf6-ec6d30b3f769 button.colab-df-convert');\n",
              "        buttonEl.style.display =\n",
              "          google.colab.kernel.accessAllowed ? 'block' : 'none';\n",
              "\n",
              "        async function convertToInteractive(key) {\n",
              "          const element = document.querySelector('#df-ec4fa447-bf6c-40b2-abf6-ec6d30b3f769');\n",
              "          const dataTable =\n",
              "            await google.colab.kernel.invokeFunction('convertToInteractive',\n",
              "                                                     [key], {});\n",
              "          if (!dataTable) return;\n",
              "\n",
              "          const docLinkHtml = 'Like what you see? Visit the ' +\n",
              "            '<a target=\"_blank\" href=https://colab.research.google.com/notebooks/data_table.ipynb>data table notebook</a>'\n",
              "            + ' to learn more about interactive tables.';\n",
              "          element.innerHTML = '';\n",
              "          dataTable['output_type'] = 'display_data';\n",
              "          await google.colab.output.renderOutput(dataTable, element);\n",
              "          const docLink = document.createElement('div');\n",
              "          docLink.innerHTML = docLinkHtml;\n",
              "          element.appendChild(docLink);\n",
              "        }\n",
              "      </script>\n",
              "    </div>\n",
              "  </div>\n",
              "  "
            ]
          },
          "metadata": {},
          "execution_count": 14
        }
      ]
    },
    {
      "cell_type": "code",
      "source": [
        "print(\"各政策オプションの期待値 :\\n\", consequence_table @ prob_table.T )\n",
        "print(\"期待値に基づいた意思決定 :\", (consequence_table @ prob_table.T ).idxmax().values[0])"
      ],
      "metadata": {
        "colab": {
          "base_uri": "https://localhost:8080/"
        },
        "id": "JMDG6v_Q2QN6",
        "outputId": "fd8da7a3-d286-4573-9f5c-f1e625fe69bb"
      },
      "execution_count": 15,
      "outputs": [
        {
          "output_type": "stream",
          "name": "stdout",
          "text": [
            "各政策オプションの期待値 :\n",
            "        0\n",
            "a1  37.0\n",
            "a2  41.0\n",
            "a3  36.0\n",
            "a4  30.5\n",
            "期待値に基づいた意思決定 : a2\n"
          ]
        }
      ]
    },
    {
      "cell_type": "markdown",
      "source": [
        "###  \"予測\"はどの程度の精度であれば信頼できる意思決定になるのか？\n",
        "- 以下では、予測モデルの品質はどの程度確保するべきかを議論する\n",
        "    - つまり、意思決定問題を意思決定問題 D={$A, \\Theta, c, P(\\theta, f)$}と捉え直す\n",
        "    - $P(\\theta, f)$は自然状態$\\theta$と予測値$f$の同時分布である\n",
        "\n",
        "| | $f_1$ |  $f_2$ | 合計|\n",
        "| --- |  :---: | :---: |:---: |\n",
        "|$\\theta_{1}$ |$$P(\\theta_1, f_1)$$| $$P(\\theta_1, f_2)$$| $$P(\\theta_1)$$| \n",
        "|$\\theta_{2}$  | $$P(\\theta_2, f_1)$$| $$P(\\theta_2, f_2)$$ | $$P(\\theta_2)$$| \n",
        "|合計 |$$P( f_1)$$ |$$P( f_2)$$ | 1| \n",
        "\n",
        "\n",
        "- 以下は馬場（2021）,  Thomoson & Brier (1955)に従いcost/lossモデルで考える\n",
        "- 以下のようなシチュエーションを考える\n",
        "    - 望ましい状態$\\theta_{good}$の場合、何もしない($=a_{c}$)状態でも、基準利益$T$を得ることができる\n",
        "    - 望ましい状態$\\theta_{good}$で、無駄に政策を行った($=a_{t}$)すると、基準利益$T$からコスト$C$引かれる\n",
        "    - 望ましくない状態$\\theta_{bad}$において、政策の不作為($=a_{c}$)は、基準利益から$L$分の損失が引かれる\n",
        "    - 望ましくない状態$\\theta_{bad}$において、政策の介入($=a_{t}$)によって$L$を解消できる。ただし、介入費用$C$は引かれる\n",
        "\n",
        "- cost/lossモデルの利得表\n",
        "\n",
        "| | $\\theta_{bad}$ |  $\\theta_{good}$ | \n",
        "| --- |  :---: | :---: |\n",
        "|$a_{c}$ |$$T-L$$| $$T$$| \n",
        "|$a_{t}$  | $$T-C$$ | $$T-C$$ | \n",
        "\n",
        "- cost/lossモデルのスケーリングした利得表\n",
        "    - Tを引く\n",
        "    - Lで割る\n",
        "\n",
        "| | $\\theta_{bad}$ |  $\\theta_{good}$ | \n",
        "| --- |  :---: | :---: |\n",
        "|$a_{c}$ |-1| 0| \n",
        "|$a_{t}$  | $$-C/L$$ | $$-C/L$$ |    "
      ],
      "metadata": {
        "id": "V4ddeWa44kUk"
      }
    },
    {
      "cell_type": "markdown",
      "source": [
        "### 基本方針 : ESVが最大になる選択肢を選ぶ\n",
        "\n",
        "- このスケーリングした状態におけるESV（Expected Scaled Value）を計算する（馬場, 2021）\n",
        "- $c'(a_i, \\theta_j)$をスケーリング後の利得とするとESVは以下である\n",
        "\n",
        "$$\n",
        "  ESV(a_i | P(\\theta)) := \\sum_j^2 P(\\theta_j) * c'(a_i, \\theta_j)\n",
        "$$"
      ],
      "metadata": {
        "id": "e5dCnDVoPpXD"
      }
    },
    {
      "cell_type": "markdown",
      "source": [
        "- $a_c$, $a_t$のESVをそれぞれ計算すると\n",
        "$$\n",
        "    \\begin{align}\n",
        "        ESV(a_c | P(\\theta))   &=  \\sum_j^2 P(\\theta_j) * c'(a_c, \\theta_j)   \\\\\n",
        "          &= P(\\theta_{bad}) * (-1) +   P(\\theta_{good}) * (0)\\\\\n",
        "         &=-P(\\theta_{bad}) \n",
        "    \\end{align}\n",
        "$$\n",
        "\n",
        "$$\n",
        "    \\begin{align}\n",
        "        ESV(a_t | P(\\theta))   &=  \\sum_j^2 P(\\theta_j) * c'(a_t, \\theta_j)   \\\\\n",
        "          &= P(\\theta_{bad}) * (-\\dfrac{C}{L}) +   P(\\theta_{good}) * (-\\dfrac{C}{L})\\\\\n",
        "         &=-\\dfrac{C}{L} \n",
        "    \\end{align}\n",
        "$$\n",
        "\n",
        "- つまり、\n",
        "    - if $\\dfrac{C}{L} > P(\\theta_{bad}) $ then **chose $a_c$ (何もしない)** \n",
        "    - else  $\\dfrac{C}{L} < P(\\theta_{bad}) $ then **chose $a_t$ (政策介入する)** "
      ],
      "metadata": {
        "id": "-UI02f6cPpf-"
      }
    },
    {
      "cell_type": "markdown",
      "source": [
        "### $P(\\theta)$を$P(\\theta, f)$に拡張\n",
        "- 「予測結果に忠実に従う」意思決定ルールにおけるESV\n",
        "\n",
        "\n",
        "$$\n",
        "    \\begin{align}\n",
        "          ESV(a_f | P(\\theta, f)) &:= \\sum_j^2 \\sum_k^2 P(\\theta_j, f_k) * c'(a_i, \\theta_j)  \\\\\n",
        "         &=-P(\\theta_{bad}, f_{good})  - P(f_{bad}) *\\dfrac{C}{L} \n",
        "    \\end{align}\n",
        "$$"
      ],
      "metadata": {
        "id": "KzvJuxe_3L4q"
      }
    },
    {
      "cell_type": "markdown",
      "source": [
        "### 予測$f$を利用すべき条件\n",
        "\n",
        "#### if $\\dfrac{C}{L} > P(\\theta_{bad}) $ then **chose $a_c$ (何もしない)** \n",
        "$$\n",
        "    \\begin{align}\n",
        "          ESV(a_f | P(\\theta, f)) &> ESV(a_c | P(\\theta)  \\\\\n",
        "         -P(\\theta_{bad}, f_{good}) - P(f_{bad})*\\dfrac{C}{L}  &> -P(\\theta_{bad})  \\\\\n",
        "         \\dfrac{C}{L}  &< P(\\theta_{bad} |f_{bad})\n",
        "    \\end{align}\n",
        "$$\n",
        "\n",
        "=> $\\dfrac{C}{L}  < P(\\theta_{bad} |f_{bad})$の場合、**予測に従って良い**\n"
      ],
      "metadata": {
        "id": "GK9CYNQj6egr"
      }
    },
    {
      "cell_type": "markdown",
      "source": [
        "#### else  $\\dfrac{C}{L} < P(\\theta_{bad}) $ then **chose $a_t$ (政策介入する)** \n",
        "\n",
        "$$\n",
        "    \\begin{align}\n",
        "          ESV(a_f | P(\\theta, f)) &> ESV(a_t | P(\\theta)  \\\\\n",
        "         -P(\\theta_{bad}, f_{good}) - P(f_{bad})*\\dfrac{C}{L}  &> - \\dfrac{C}{L}  \\\\\n",
        "         \\dfrac{C}{L}  &> P(\\theta_{bad}| f_{good})\n",
        "    \\end{align}\n",
        "$$\n",
        "=> $\\dfrac{C}{L}  > P(\\theta_{bad}| f_{good})$の場合、**予測に従って良い**"
      ],
      "metadata": {
        "id": "bLp2ETIl8Zs5"
      }
    },
    {
      "cell_type": "markdown",
      "source": [
        "#### [架空事例]\n",
        "- 失業給付事務を対応するとする\n",
        "- t期の情報をもとに、t+1期の失業保険の予算を決めるものとする\n",
        "- 政策オプション：今期と同額とすべきか、増額とすべきか（$a_c$ : 継続、 $a_t$ : 予算増額）\n",
        "- 状態 : t+1期に失業申請が増えるか $= \\theta_{bad}$, それ以外 $= \\theta_{good}$\n",
        "    - なお、単純化のために、失業申請が減ることは特に考慮しない（予算が余った場合、繰り越せるとする）\n",
        "    - また、これも単純化のために、損失額は、失業申請増加の量にかかわらず一定とする "
      ],
      "metadata": {
        "id": "6XJQgL2Dpk_6"
      }
    },
    {
      "cell_type": "code",
      "source": [
        "# @title 利得行列を作成\n",
        "T = 15  # 社会的効用\n",
        "C = 10  # 予算増額分の直接費用\n",
        "L = 20  # 予算不足による社会的（派生）コスト\n",
        "print( \"C/L : \" , C/L )\n",
        "\n",
        "cost_loss_profit = pd.DataFrame(\n",
        "    {\n",
        "        \"bad\" : [ T-L, T-C ],\n",
        "        \"good\" : [ T, T-C ],\n",
        "    }\n",
        "    ,index = [\"a_c\", \"a_t\"]\n",
        ")\n",
        "cost_loss_profit "
      ],
      "metadata": {
        "colab": {
          "base_uri": "https://localhost:8080/",
          "height": 130
        },
        "id": "sKYDORBK30UU",
        "outputId": "3cca5206-08ba-43fa-bb0e-9d8b6bec0249"
      },
      "execution_count": 16,
      "outputs": [
        {
          "output_type": "stream",
          "name": "stdout",
          "text": [
            "C/L :  0.5\n"
          ]
        },
        {
          "output_type": "execute_result",
          "data": {
            "text/plain": [
              "     bad  good\n",
              "a_c   -5    15\n",
              "a_t    5     5"
            ],
            "text/html": [
              "\n",
              "  <div id=\"df-57150bf1-8da4-4b03-af1f-10616a681957\">\n",
              "    <div class=\"colab-df-container\">\n",
              "      <div>\n",
              "<style scoped>\n",
              "    .dataframe tbody tr th:only-of-type {\n",
              "        vertical-align: middle;\n",
              "    }\n",
              "\n",
              "    .dataframe tbody tr th {\n",
              "        vertical-align: top;\n",
              "    }\n",
              "\n",
              "    .dataframe thead th {\n",
              "        text-align: right;\n",
              "    }\n",
              "</style>\n",
              "<table border=\"1\" class=\"dataframe\">\n",
              "  <thead>\n",
              "    <tr style=\"text-align: right;\">\n",
              "      <th></th>\n",
              "      <th>bad</th>\n",
              "      <th>good</th>\n",
              "    </tr>\n",
              "  </thead>\n",
              "  <tbody>\n",
              "    <tr>\n",
              "      <th>a_c</th>\n",
              "      <td>-5</td>\n",
              "      <td>15</td>\n",
              "    </tr>\n",
              "    <tr>\n",
              "      <th>a_t</th>\n",
              "      <td>5</td>\n",
              "      <td>5</td>\n",
              "    </tr>\n",
              "  </tbody>\n",
              "</table>\n",
              "</div>\n",
              "      <button class=\"colab-df-convert\" onclick=\"convertToInteractive('df-57150bf1-8da4-4b03-af1f-10616a681957')\"\n",
              "              title=\"Convert this dataframe to an interactive table.\"\n",
              "              style=\"display:none;\">\n",
              "        \n",
              "  <svg xmlns=\"http://www.w3.org/2000/svg\" height=\"24px\"viewBox=\"0 0 24 24\"\n",
              "       width=\"24px\">\n",
              "    <path d=\"M0 0h24v24H0V0z\" fill=\"none\"/>\n",
              "    <path d=\"M18.56 5.44l.94 2.06.94-2.06 2.06-.94-2.06-.94-.94-2.06-.94 2.06-2.06.94zm-11 1L8.5 8.5l.94-2.06 2.06-.94-2.06-.94L8.5 2.5l-.94 2.06-2.06.94zm10 10l.94 2.06.94-2.06 2.06-.94-2.06-.94-.94-2.06-.94 2.06-2.06.94z\"/><path d=\"M17.41 7.96l-1.37-1.37c-.4-.4-.92-.59-1.43-.59-.52 0-1.04.2-1.43.59L10.3 9.45l-7.72 7.72c-.78.78-.78 2.05 0 2.83L4 21.41c.39.39.9.59 1.41.59.51 0 1.02-.2 1.41-.59l7.78-7.78 2.81-2.81c.8-.78.8-2.07 0-2.86zM5.41 20L4 18.59l7.72-7.72 1.47 1.35L5.41 20z\"/>\n",
              "  </svg>\n",
              "      </button>\n",
              "      \n",
              "  <style>\n",
              "    .colab-df-container {\n",
              "      display:flex;\n",
              "      flex-wrap:wrap;\n",
              "      gap: 12px;\n",
              "    }\n",
              "\n",
              "    .colab-df-convert {\n",
              "      background-color: #E8F0FE;\n",
              "      border: none;\n",
              "      border-radius: 50%;\n",
              "      cursor: pointer;\n",
              "      display: none;\n",
              "      fill: #1967D2;\n",
              "      height: 32px;\n",
              "      padding: 0 0 0 0;\n",
              "      width: 32px;\n",
              "    }\n",
              "\n",
              "    .colab-df-convert:hover {\n",
              "      background-color: #E2EBFA;\n",
              "      box-shadow: 0px 1px 2px rgba(60, 64, 67, 0.3), 0px 1px 3px 1px rgba(60, 64, 67, 0.15);\n",
              "      fill: #174EA6;\n",
              "    }\n",
              "\n",
              "    [theme=dark] .colab-df-convert {\n",
              "      background-color: #3B4455;\n",
              "      fill: #D2E3FC;\n",
              "    }\n",
              "\n",
              "    [theme=dark] .colab-df-convert:hover {\n",
              "      background-color: #434B5C;\n",
              "      box-shadow: 0px 1px 3px 1px rgba(0, 0, 0, 0.15);\n",
              "      filter: drop-shadow(0px 1px 2px rgba(0, 0, 0, 0.3));\n",
              "      fill: #FFFFFF;\n",
              "    }\n",
              "  </style>\n",
              "\n",
              "      <script>\n",
              "        const buttonEl =\n",
              "          document.querySelector('#df-57150bf1-8da4-4b03-af1f-10616a681957 button.colab-df-convert');\n",
              "        buttonEl.style.display =\n",
              "          google.colab.kernel.accessAllowed ? 'block' : 'none';\n",
              "\n",
              "        async function convertToInteractive(key) {\n",
              "          const element = document.querySelector('#df-57150bf1-8da4-4b03-af1f-10616a681957');\n",
              "          const dataTable =\n",
              "            await google.colab.kernel.invokeFunction('convertToInteractive',\n",
              "                                                     [key], {});\n",
              "          if (!dataTable) return;\n",
              "\n",
              "          const docLinkHtml = 'Like what you see? Visit the ' +\n",
              "            '<a target=\"_blank\" href=https://colab.research.google.com/notebooks/data_table.ipynb>data table notebook</a>'\n",
              "            + ' to learn more about interactive tables.';\n",
              "          element.innerHTML = '';\n",
              "          dataTable['output_type'] = 'display_data';\n",
              "          await google.colab.output.renderOutput(dataTable, element);\n",
              "          const docLink = document.createElement('div');\n",
              "          docLink.innerHTML = docLinkHtml;\n",
              "          element.appendChild(docLink);\n",
              "        }\n",
              "      </script>\n",
              "    </div>\n",
              "  </div>\n",
              "  "
            ]
          },
          "metadata": {},
          "execution_count": 16
        }
      ]
    },
    {
      "cell_type": "code",
      "source": [
        "# @title スケーリングした利得行列\n",
        "cost_loss_profit = (cost_loss_profit  - T) / L\n",
        "cost_loss_profit"
      ],
      "metadata": {
        "colab": {
          "base_uri": "https://localhost:8080/",
          "height": 112
        },
        "id": "JQhqIrDYGQyk",
        "outputId": "cb0f32bb-a448-4a74-f7e1-5d3c3417745c"
      },
      "execution_count": 17,
      "outputs": [
        {
          "output_type": "execute_result",
          "data": {
            "text/plain": [
              "     bad  good\n",
              "a_c -1.0   0.0\n",
              "a_t -0.5  -0.5"
            ],
            "text/html": [
              "\n",
              "  <div id=\"df-17bbf56d-a865-49e7-8a50-330f33276076\">\n",
              "    <div class=\"colab-df-container\">\n",
              "      <div>\n",
              "<style scoped>\n",
              "    .dataframe tbody tr th:only-of-type {\n",
              "        vertical-align: middle;\n",
              "    }\n",
              "\n",
              "    .dataframe tbody tr th {\n",
              "        vertical-align: top;\n",
              "    }\n",
              "\n",
              "    .dataframe thead th {\n",
              "        text-align: right;\n",
              "    }\n",
              "</style>\n",
              "<table border=\"1\" class=\"dataframe\">\n",
              "  <thead>\n",
              "    <tr style=\"text-align: right;\">\n",
              "      <th></th>\n",
              "      <th>bad</th>\n",
              "      <th>good</th>\n",
              "    </tr>\n",
              "  </thead>\n",
              "  <tbody>\n",
              "    <tr>\n",
              "      <th>a_c</th>\n",
              "      <td>-1.0</td>\n",
              "      <td>0.0</td>\n",
              "    </tr>\n",
              "    <tr>\n",
              "      <th>a_t</th>\n",
              "      <td>-0.5</td>\n",
              "      <td>-0.5</td>\n",
              "    </tr>\n",
              "  </tbody>\n",
              "</table>\n",
              "</div>\n",
              "      <button class=\"colab-df-convert\" onclick=\"convertToInteractive('df-17bbf56d-a865-49e7-8a50-330f33276076')\"\n",
              "              title=\"Convert this dataframe to an interactive table.\"\n",
              "              style=\"display:none;\">\n",
              "        \n",
              "  <svg xmlns=\"http://www.w3.org/2000/svg\" height=\"24px\"viewBox=\"0 0 24 24\"\n",
              "       width=\"24px\">\n",
              "    <path d=\"M0 0h24v24H0V0z\" fill=\"none\"/>\n",
              "    <path d=\"M18.56 5.44l.94 2.06.94-2.06 2.06-.94-2.06-.94-.94-2.06-.94 2.06-2.06.94zm-11 1L8.5 8.5l.94-2.06 2.06-.94-2.06-.94L8.5 2.5l-.94 2.06-2.06.94zm10 10l.94 2.06.94-2.06 2.06-.94-2.06-.94-.94-2.06-.94 2.06-2.06.94z\"/><path d=\"M17.41 7.96l-1.37-1.37c-.4-.4-.92-.59-1.43-.59-.52 0-1.04.2-1.43.59L10.3 9.45l-7.72 7.72c-.78.78-.78 2.05 0 2.83L4 21.41c.39.39.9.59 1.41.59.51 0 1.02-.2 1.41-.59l7.78-7.78 2.81-2.81c.8-.78.8-2.07 0-2.86zM5.41 20L4 18.59l7.72-7.72 1.47 1.35L5.41 20z\"/>\n",
              "  </svg>\n",
              "      </button>\n",
              "      \n",
              "  <style>\n",
              "    .colab-df-container {\n",
              "      display:flex;\n",
              "      flex-wrap:wrap;\n",
              "      gap: 12px;\n",
              "    }\n",
              "\n",
              "    .colab-df-convert {\n",
              "      background-color: #E8F0FE;\n",
              "      border: none;\n",
              "      border-radius: 50%;\n",
              "      cursor: pointer;\n",
              "      display: none;\n",
              "      fill: #1967D2;\n",
              "      height: 32px;\n",
              "      padding: 0 0 0 0;\n",
              "      width: 32px;\n",
              "    }\n",
              "\n",
              "    .colab-df-convert:hover {\n",
              "      background-color: #E2EBFA;\n",
              "      box-shadow: 0px 1px 2px rgba(60, 64, 67, 0.3), 0px 1px 3px 1px rgba(60, 64, 67, 0.15);\n",
              "      fill: #174EA6;\n",
              "    }\n",
              "\n",
              "    [theme=dark] .colab-df-convert {\n",
              "      background-color: #3B4455;\n",
              "      fill: #D2E3FC;\n",
              "    }\n",
              "\n",
              "    [theme=dark] .colab-df-convert:hover {\n",
              "      background-color: #434B5C;\n",
              "      box-shadow: 0px 1px 3px 1px rgba(0, 0, 0, 0.15);\n",
              "      filter: drop-shadow(0px 1px 2px rgba(0, 0, 0, 0.3));\n",
              "      fill: #FFFFFF;\n",
              "    }\n",
              "  </style>\n",
              "\n",
              "      <script>\n",
              "        const buttonEl =\n",
              "          document.querySelector('#df-17bbf56d-a865-49e7-8a50-330f33276076 button.colab-df-convert');\n",
              "        buttonEl.style.display =\n",
              "          google.colab.kernel.accessAllowed ? 'block' : 'none';\n",
              "\n",
              "        async function convertToInteractive(key) {\n",
              "          const element = document.querySelector('#df-17bbf56d-a865-49e7-8a50-330f33276076');\n",
              "          const dataTable =\n",
              "            await google.colab.kernel.invokeFunction('convertToInteractive',\n",
              "                                                     [key], {});\n",
              "          if (!dataTable) return;\n",
              "\n",
              "          const docLinkHtml = 'Like what you see? Visit the ' +\n",
              "            '<a target=\"_blank\" href=https://colab.research.google.com/notebooks/data_table.ipynb>data table notebook</a>'\n",
              "            + ' to learn more about interactive tables.';\n",
              "          element.innerHTML = '';\n",
              "          dataTable['output_type'] = 'display_data';\n",
              "          await google.colab.output.renderOutput(dataTable, element);\n",
              "          const docLink = document.createElement('div');\n",
              "          docLink.innerHTML = docLinkHtml;\n",
              "          element.appendChild(docLink);\n",
              "        }\n",
              "      </script>\n",
              "    </div>\n",
              "  </div>\n",
              "  "
            ]
          },
          "metadata": {},
          "execution_count": 17
        }
      ]
    },
    {
      "cell_type": "code",
      "source": [
        "!pip install -q orbit-ml"
      ],
      "metadata": {
        "colab": {
          "base_uri": "https://localhost:8080/"
        },
        "id": "R6oOQDS8U_zk",
        "outputId": "795e72ca-b14c-4f25-8637-723de8dfb9e8"
      },
      "execution_count": 20,
      "outputs": [
        {
          "output_type": "stream",
          "name": "stdout",
          "text": [
            "\u001b[K     |████████████████████████████████| 476 kB 35.1 MB/s \n",
            "\u001b[K     |████████████████████████████████| 9.4 MB 43.6 MB/s \n",
            "\u001b[K     |████████████████████████████████| 727 kB 58.5 MB/s \n",
            "\u001b[K     |████████████████████████████████| 62.6 MB 99 kB/s \n",
            "\u001b[K     |████████████████████████████████| 295 kB 72.1 MB/s \n",
            "\u001b[K     |████████████████████████████████| 965 kB 11.4 MB/s \n",
            "\u001b[?25h"
          ]
        }
      ]
    },
    {
      "cell_type": "code",
      "source": [
        "#@title 米国失業給付申請データをダウンロード { display-mode: \"form\" }\n",
        "from orbit.utils.dataset import load_iclaims\n",
        "from sklearn.linear_model import LogisticRegression\n",
        "from sklearn.metrics import confusion_matrix, accuracy_score\n",
        "# 2010年1月から2018年6月までの米国の失業給付の週次初回請求件数と、それに関連するいくつかのgoogleのトレンドクエリ（unemploy、filling、job）を含むデータセット\n",
        "\n",
        "# log-transformed data\n",
        "state_df = load_iclaims()\n",
        "\n",
        "X_cols = [\n",
        "    'trend.unemploy', 'trend.filling', 'trend.job',\n",
        "]\n",
        "y_col = \"event\"\n",
        "\n",
        "state_df[\"month\"] = state_df[\"week\"].dt.to_period(\"M\").dt.to_timestamp()\n",
        "state_df = state_df.groupby(\"month\").mean()[[\"claims\"] +X_cols].reset_index()\n",
        "state_df[\"event\"] = np.where(\n",
        "    state_df.shift(-1)[\"claims\"] > state_df[\"claims\"], 1, 0\n",
        ")\n",
        "state_df = state_df.dropna()\n",
        "# state_df = pd.concat(\n",
        "#     [\n",
        "#         state_df,\n",
        "#         pd.get_dummies(state_df['month'].dt.month, drop_first=True, prefix=\"month\")\n",
        "#     ]\n",
        "#     ,axis = 1\n",
        "# )"
      ],
      "metadata": {
        "id": "tiFMJq1HTIbb"
      },
      "execution_count": 113,
      "outputs": []
    },
    {
      "cell_type": "code",
      "source": [
        "event_p = (state_df.query(\"month < '2018-1-01'\").groupby(\"event\").count()[\"month\"] / len(state_df.query(\"month < '2018-1-01'\")))\n",
        "event_p.index = [\"good\", \"bad\"]\n",
        "print(\"周辺確率 P( theta_bad ) :\" , event_p[\"bad\"])\n",
        "\n",
        "print(\"周辺確率しか見ない場合：\")\n",
        "if C/L >= event_p[\"bad\"]:\n",
        "    print(\"a_c : 何もしないがよい\")\n",
        "else:\n",
        "    print(\"a_t : 増額！\")"
      ],
      "metadata": {
        "colab": {
          "base_uri": "https://localhost:8080/"
        },
        "id": "kddK9GcqTMnq",
        "outputId": "42522645-454c-4e5e-b8cd-fa95f50733d8"
      },
      "execution_count": 115,
      "outputs": [
        {
          "output_type": "stream",
          "name": "stdout",
          "text": [
            "周辺確率 P( theta_bad ) : 0.5729166666666666\n",
            "周辺確率しか見ない場合：\n",
            "a_t : 増額！\n"
          ]
        }
      ]
    },
    {
      "cell_type": "code",
      "source": [
        "#@title (t+1期の増減予測できそうでは？)\n",
        "# train-test split\n",
        "train_df = state_df.query(\"month < '2014-01-01'\")\n",
        "valid_df = state_df.query(\"'2014-01-01' <= month < '2016-8-01'\")\n",
        "test_df = state_df.query(\"'2016-08-01' <= month\")\n"
      ],
      "metadata": {
        "id": "Udj0TznSw1vt"
      },
      "execution_count": 139,
      "outputs": []
    },
    {
      "cell_type": "code",
      "source": [
        "lr = LogisticRegression() \n",
        "lr.fit(train_df[X_cols], train_df[y_col]) \n",
        "\n",
        "pred_valid = lr.predict(valid_df[X_cols])\n",
        "\n",
        "confusion_table= pd.DataFrame(\n",
        "    confusion_matrix(y_true=valid_df[y_col], y_pred=pred_valid)\n",
        ")\n",
        "confusion_table.index = [\"actual_good\", \"actual_bad\"]\n",
        "confusion_table.columns = [\"pred_good\", \"pred_bad\"]\n",
        "confusion_table "
      ],
      "metadata": {
        "colab": {
          "base_uri": "https://localhost:8080/",
          "height": 112
        },
        "id": "4neJqrlwtVA-",
        "outputId": "5212419c-0fd3-4ba7-cadf-6513e214d7d5"
      },
      "execution_count": 140,
      "outputs": [
        {
          "output_type": "execute_result",
          "data": {
            "text/plain": [
              "             pred_good  pred_bad\n",
              "actual_good          7         7\n",
              "actual_bad           3        14"
            ],
            "text/html": [
              "\n",
              "  <div id=\"df-31b2abfa-bd23-4f1b-95b0-372d3405e109\">\n",
              "    <div class=\"colab-df-container\">\n",
              "      <div>\n",
              "<style scoped>\n",
              "    .dataframe tbody tr th:only-of-type {\n",
              "        vertical-align: middle;\n",
              "    }\n",
              "\n",
              "    .dataframe tbody tr th {\n",
              "        vertical-align: top;\n",
              "    }\n",
              "\n",
              "    .dataframe thead th {\n",
              "        text-align: right;\n",
              "    }\n",
              "</style>\n",
              "<table border=\"1\" class=\"dataframe\">\n",
              "  <thead>\n",
              "    <tr style=\"text-align: right;\">\n",
              "      <th></th>\n",
              "      <th>pred_good</th>\n",
              "      <th>pred_bad</th>\n",
              "    </tr>\n",
              "  </thead>\n",
              "  <tbody>\n",
              "    <tr>\n",
              "      <th>actual_good</th>\n",
              "      <td>7</td>\n",
              "      <td>7</td>\n",
              "    </tr>\n",
              "    <tr>\n",
              "      <th>actual_bad</th>\n",
              "      <td>3</td>\n",
              "      <td>14</td>\n",
              "    </tr>\n",
              "  </tbody>\n",
              "</table>\n",
              "</div>\n",
              "      <button class=\"colab-df-convert\" onclick=\"convertToInteractive('df-31b2abfa-bd23-4f1b-95b0-372d3405e109')\"\n",
              "              title=\"Convert this dataframe to an interactive table.\"\n",
              "              style=\"display:none;\">\n",
              "        \n",
              "  <svg xmlns=\"http://www.w3.org/2000/svg\" height=\"24px\"viewBox=\"0 0 24 24\"\n",
              "       width=\"24px\">\n",
              "    <path d=\"M0 0h24v24H0V0z\" fill=\"none\"/>\n",
              "    <path d=\"M18.56 5.44l.94 2.06.94-2.06 2.06-.94-2.06-.94-.94-2.06-.94 2.06-2.06.94zm-11 1L8.5 8.5l.94-2.06 2.06-.94-2.06-.94L8.5 2.5l-.94 2.06-2.06.94zm10 10l.94 2.06.94-2.06 2.06-.94-2.06-.94-.94-2.06-.94 2.06-2.06.94z\"/><path d=\"M17.41 7.96l-1.37-1.37c-.4-.4-.92-.59-1.43-.59-.52 0-1.04.2-1.43.59L10.3 9.45l-7.72 7.72c-.78.78-.78 2.05 0 2.83L4 21.41c.39.39.9.59 1.41.59.51 0 1.02-.2 1.41-.59l7.78-7.78 2.81-2.81c.8-.78.8-2.07 0-2.86zM5.41 20L4 18.59l7.72-7.72 1.47 1.35L5.41 20z\"/>\n",
              "  </svg>\n",
              "      </button>\n",
              "      \n",
              "  <style>\n",
              "    .colab-df-container {\n",
              "      display:flex;\n",
              "      flex-wrap:wrap;\n",
              "      gap: 12px;\n",
              "    }\n",
              "\n",
              "    .colab-df-convert {\n",
              "      background-color: #E8F0FE;\n",
              "      border: none;\n",
              "      border-radius: 50%;\n",
              "      cursor: pointer;\n",
              "      display: none;\n",
              "      fill: #1967D2;\n",
              "      height: 32px;\n",
              "      padding: 0 0 0 0;\n",
              "      width: 32px;\n",
              "    }\n",
              "\n",
              "    .colab-df-convert:hover {\n",
              "      background-color: #E2EBFA;\n",
              "      box-shadow: 0px 1px 2px rgba(60, 64, 67, 0.3), 0px 1px 3px 1px rgba(60, 64, 67, 0.15);\n",
              "      fill: #174EA6;\n",
              "    }\n",
              "\n",
              "    [theme=dark] .colab-df-convert {\n",
              "      background-color: #3B4455;\n",
              "      fill: #D2E3FC;\n",
              "    }\n",
              "\n",
              "    [theme=dark] .colab-df-convert:hover {\n",
              "      background-color: #434B5C;\n",
              "      box-shadow: 0px 1px 3px 1px rgba(0, 0, 0, 0.15);\n",
              "      filter: drop-shadow(0px 1px 2px rgba(0, 0, 0, 0.3));\n",
              "      fill: #FFFFFF;\n",
              "    }\n",
              "  </style>\n",
              "\n",
              "      <script>\n",
              "        const buttonEl =\n",
              "          document.querySelector('#df-31b2abfa-bd23-4f1b-95b0-372d3405e109 button.colab-df-convert');\n",
              "        buttonEl.style.display =\n",
              "          google.colab.kernel.accessAllowed ? 'block' : 'none';\n",
              "\n",
              "        async function convertToInteractive(key) {\n",
              "          const element = document.querySelector('#df-31b2abfa-bd23-4f1b-95b0-372d3405e109');\n",
              "          const dataTable =\n",
              "            await google.colab.kernel.invokeFunction('convertToInteractive',\n",
              "                                                     [key], {});\n",
              "          if (!dataTable) return;\n",
              "\n",
              "          const docLinkHtml = 'Like what you see? Visit the ' +\n",
              "            '<a target=\"_blank\" href=https://colab.research.google.com/notebooks/data_table.ipynb>data table notebook</a>'\n",
              "            + ' to learn more about interactive tables.';\n",
              "          element.innerHTML = '';\n",
              "          dataTable['output_type'] = 'display_data';\n",
              "          await google.colab.output.renderOutput(dataTable, element);\n",
              "          const docLink = document.createElement('div');\n",
              "          docLink.innerHTML = docLinkHtml;\n",
              "          element.appendChild(docLink);\n",
              "        }\n",
              "      </script>\n",
              "    </div>\n",
              "  </div>\n",
              "  "
            ]
          },
          "metadata": {},
          "execution_count": 140
        }
      ]
    },
    {
      "cell_type": "markdown",
      "source": [
        "ここで、本予測の利用条件を調べる :  $\\dfrac{C}{L}  > P(\\theta_{bad}| f_{good})$"
      ],
      "metadata": {
        "id": "4buZY5qqwkdY"
      }
    },
    {
      "cell_type": "code",
      "source": [
        "print(\"C/T :\", C/L)\n",
        "print(\n",
        "    \"P(theta_bad | f_good) : \"\n",
        "    , confusion_table.loc[\"actual_bad\", \"pred_good\"] / confusion_table[\"pred_good\"].sum() \n",
        ")"
      ],
      "metadata": {
        "colab": {
          "base_uri": "https://localhost:8080/"
        },
        "id": "z0BRdcKww5Dt",
        "outputId": "bcec1c93-486c-4226-ce9f-5aad6570d8dc"
      },
      "execution_count": 141,
      "outputs": [
        {
          "output_type": "stream",
          "name": "stdout",
          "text": [
            "C/T : 0.5\n",
            "P(theta_bad | f_good) :  0.3\n"
          ]
        }
      ]
    },
    {
      "cell_type": "markdown",
      "source": [
        "##### 本当に予測の効果があったか確かめてみる"
      ],
      "metadata": {
        "id": "SAWFHYqMx8se"
      }
    },
    {
      "cell_type": "code",
      "source": [
        "#@title 再掲 { display-mode: \"form\" }\n",
        "\n",
        "T = 15  # 社会的効用\n",
        "C = 10  # 予算増額分の直接費用\n",
        "L = 20  # 予算不足による社会的（派生）コスト\n",
        "\n",
        "pd.DataFrame(\n",
        "    {\n",
        "        \"bad\" : [ T-L, T-C ],\n",
        "        \"good\" : [ T, T-C ],\n",
        "    }\n",
        "    ,index = [\"a_c\", \"a_t\"]\n",
        ")"
      ],
      "metadata": {
        "colab": {
          "base_uri": "https://localhost:8080/",
          "height": 112
        },
        "id": "ereWgMPn1BjY",
        "outputId": "6795ec78-78ab-4f92-e0ad-9a8f043e97be"
      },
      "execution_count": 142,
      "outputs": [
        {
          "output_type": "execute_result",
          "data": {
            "text/plain": [
              "     bad  good\n",
              "a_c   -5    15\n",
              "a_t    5     5"
            ],
            "text/html": [
              "\n",
              "  <div id=\"df-878692c3-6d26-472b-ad96-d9bfed868700\">\n",
              "    <div class=\"colab-df-container\">\n",
              "      <div>\n",
              "<style scoped>\n",
              "    .dataframe tbody tr th:only-of-type {\n",
              "        vertical-align: middle;\n",
              "    }\n",
              "\n",
              "    .dataframe tbody tr th {\n",
              "        vertical-align: top;\n",
              "    }\n",
              "\n",
              "    .dataframe thead th {\n",
              "        text-align: right;\n",
              "    }\n",
              "</style>\n",
              "<table border=\"1\" class=\"dataframe\">\n",
              "  <thead>\n",
              "    <tr style=\"text-align: right;\">\n",
              "      <th></th>\n",
              "      <th>bad</th>\n",
              "      <th>good</th>\n",
              "    </tr>\n",
              "  </thead>\n",
              "  <tbody>\n",
              "    <tr>\n",
              "      <th>a_c</th>\n",
              "      <td>-5</td>\n",
              "      <td>15</td>\n",
              "    </tr>\n",
              "    <tr>\n",
              "      <th>a_t</th>\n",
              "      <td>5</td>\n",
              "      <td>5</td>\n",
              "    </tr>\n",
              "  </tbody>\n",
              "</table>\n",
              "</div>\n",
              "      <button class=\"colab-df-convert\" onclick=\"convertToInteractive('df-878692c3-6d26-472b-ad96-d9bfed868700')\"\n",
              "              title=\"Convert this dataframe to an interactive table.\"\n",
              "              style=\"display:none;\">\n",
              "        \n",
              "  <svg xmlns=\"http://www.w3.org/2000/svg\" height=\"24px\"viewBox=\"0 0 24 24\"\n",
              "       width=\"24px\">\n",
              "    <path d=\"M0 0h24v24H0V0z\" fill=\"none\"/>\n",
              "    <path d=\"M18.56 5.44l.94 2.06.94-2.06 2.06-.94-2.06-.94-.94-2.06-.94 2.06-2.06.94zm-11 1L8.5 8.5l.94-2.06 2.06-.94-2.06-.94L8.5 2.5l-.94 2.06-2.06.94zm10 10l.94 2.06.94-2.06 2.06-.94-2.06-.94-.94-2.06-.94 2.06-2.06.94z\"/><path d=\"M17.41 7.96l-1.37-1.37c-.4-.4-.92-.59-1.43-.59-.52 0-1.04.2-1.43.59L10.3 9.45l-7.72 7.72c-.78.78-.78 2.05 0 2.83L4 21.41c.39.39.9.59 1.41.59.51 0 1.02-.2 1.41-.59l7.78-7.78 2.81-2.81c.8-.78.8-2.07 0-2.86zM5.41 20L4 18.59l7.72-7.72 1.47 1.35L5.41 20z\"/>\n",
              "  </svg>\n",
              "      </button>\n",
              "      \n",
              "  <style>\n",
              "    .colab-df-container {\n",
              "      display:flex;\n",
              "      flex-wrap:wrap;\n",
              "      gap: 12px;\n",
              "    }\n",
              "\n",
              "    .colab-df-convert {\n",
              "      background-color: #E8F0FE;\n",
              "      border: none;\n",
              "      border-radius: 50%;\n",
              "      cursor: pointer;\n",
              "      display: none;\n",
              "      fill: #1967D2;\n",
              "      height: 32px;\n",
              "      padding: 0 0 0 0;\n",
              "      width: 32px;\n",
              "    }\n",
              "\n",
              "    .colab-df-convert:hover {\n",
              "      background-color: #E2EBFA;\n",
              "      box-shadow: 0px 1px 2px rgba(60, 64, 67, 0.3), 0px 1px 3px 1px rgba(60, 64, 67, 0.15);\n",
              "      fill: #174EA6;\n",
              "    }\n",
              "\n",
              "    [theme=dark] .colab-df-convert {\n",
              "      background-color: #3B4455;\n",
              "      fill: #D2E3FC;\n",
              "    }\n",
              "\n",
              "    [theme=dark] .colab-df-convert:hover {\n",
              "      background-color: #434B5C;\n",
              "      box-shadow: 0px 1px 3px 1px rgba(0, 0, 0, 0.15);\n",
              "      filter: drop-shadow(0px 1px 2px rgba(0, 0, 0, 0.3));\n",
              "      fill: #FFFFFF;\n",
              "    }\n",
              "  </style>\n",
              "\n",
              "      <script>\n",
              "        const buttonEl =\n",
              "          document.querySelector('#df-878692c3-6d26-472b-ad96-d9bfed868700 button.colab-df-convert');\n",
              "        buttonEl.style.display =\n",
              "          google.colab.kernel.accessAllowed ? 'block' : 'none';\n",
              "\n",
              "        async function convertToInteractive(key) {\n",
              "          const element = document.querySelector('#df-878692c3-6d26-472b-ad96-d9bfed868700');\n",
              "          const dataTable =\n",
              "            await google.colab.kernel.invokeFunction('convertToInteractive',\n",
              "                                                     [key], {});\n",
              "          if (!dataTable) return;\n",
              "\n",
              "          const docLinkHtml = 'Like what you see? Visit the ' +\n",
              "            '<a target=\"_blank\" href=https://colab.research.google.com/notebooks/data_table.ipynb>data table notebook</a>'\n",
              "            + ' to learn more about interactive tables.';\n",
              "          element.innerHTML = '';\n",
              "          dataTable['output_type'] = 'display_data';\n",
              "          await google.colab.output.renderOutput(dataTable, element);\n",
              "          const docLink = document.createElement('div');\n",
              "          docLink.innerHTML = docLinkHtml;\n",
              "          element.appendChild(docLink);\n",
              "        }\n",
              "      </script>\n",
              "    </div>\n",
              "  </div>\n",
              "  "
            ]
          },
          "metadata": {},
          "execution_count": 142
        }
      ]
    },
    {
      "cell_type": "code",
      "source": [
        "#@title テストデータで意思決定の利益を比較 { display-mode: \"form\" }\n",
        "test_df = test_df .assign(\n",
        "    pred = lr.predict(test_df[X_cols])\n",
        ")\n",
        "\n",
        "# 予測利益\n",
        "test_df[\"f_profit\"] = np.where(\n",
        "    (test_df[\"event\"] > 0) & (test_df[\"pred\"] > 0), T-C, 0\n",
        ")\n",
        "test_df[\"f_profit\"] = np.where(\n",
        "    (test_df[\"event\"] < 1) & (test_df[\"pred\"] > 0), T-C, test_df[\"f_profit\"]\n",
        ")\n",
        "test_df[\"f_profit\"] = np.where(\n",
        "    (test_df[\"event\"] > 0) & (test_df[\"pred\"] < 1), T-L, test_df[\"f_profit\"]\n",
        ")\n",
        "test_df[\"f_profit\"] = np.where(\n",
        "    (test_df[\"event\"] < 1) & (test_df[\"pred\"] < 1), T, test_df[\"f_profit\"]\n",
        ")\n",
        "\n",
        "# 周辺確率のみの利益\n",
        "test_df[\"n_profit\"] = 5\n",
        "\n",
        "test_df.assign(\n",
        "    profit_with_f = test_df[\"f_profit\"].cumsum(),\n",
        "    profit_without_f = test_df[\"n_profit\"].cumsum(),\n",
        ").set_index(\"month\")[[\"profit_with_f\", \"profit_without_f\"]].plot()"
      ],
      "metadata": {
        "colab": {
          "base_uri": "https://localhost:8080/",
          "height": 306
        },
        "id": "c4xS9i3ZyPCm",
        "outputId": "0da88e72-6b34-44b9-fcf6-f6b48d4c2459"
      },
      "execution_count": 149,
      "outputs": [
        {
          "output_type": "execute_result",
          "data": {
            "text/plain": [
              "<matplotlib.axes._subplots.AxesSubplot at 0x7f593b0cae80>"
            ]
          },
          "metadata": {},
          "execution_count": 149
        },
        {
          "output_type": "display_data",
          "data": {
            "text/plain": [
              "<Figure size 432x288 with 1 Axes>"
            ],
            "image/png": "[encoded data removed]"
          },
          "metadata": {
            "needs_background": "light"
          }
        }
      ]
    },
    {
      "cell_type": "markdown",
      "source": [
        "### [余談]　本当はこのデータセットはもっと予測は簡単"
      ],
      "metadata": {
        "id": "B8U9RifV5A4l"
      }
    },
    {
      "cell_type": "code",
      "source": [
        "train_df.set_index(\"month\")[\"claims\"].plot()"
      ],
      "metadata": {
        "colab": {
          "base_uri": "https://localhost:8080/",
          "height": 308
        },
        "id": "GymA7UVkwcUL",
        "outputId": "5c931bdd-b20c-4e9b-a0be-902a51d7874b"
      },
      "execution_count": 77,
      "outputs": [
        {
          "output_type": "execute_result",
          "data": {
            "text/plain": [
              "<matplotlib.axes._subplots.AxesSubplot at 0x7f593f927190>"
            ]
          },
          "metadata": {},
          "execution_count": 77
        },
        {
          "output_type": "display_data",
          "data": {
            "text/plain": [
              "<Figure size 432x288 with 1 Axes>"
            ],
            "image/png": "[encoded data removed]"
          },
          "metadata": {
            "needs_background": "light"
          }
        }
      ]
    },
    {
      "cell_type": "code",
      "source": [
        "#@title import orbit pkg { display-mode: \"form\" }\n",
        "from orbit.utils.dataset import load_iclaims\n",
        "from orbit.models import DLT\n",
        "from orbit.diagnostics.plot import plot_predicted_data\n",
        "\n",
        "import warnings\n",
        "warnings.filterwarnings('ignore')"
      ],
      "metadata": {
        "id": "pihEfskTTNXn"
      },
      "execution_count": 21,
      "outputs": []
    },
    {
      "cell_type": "code",
      "source": [
        "#@title 米国失業給付申請データをダウンロード { display-mode: \"form\" }\n",
        "# 2010年1月から2018年6月までの米国の失業給付の週次初回請求件数と、それに関連するいくつかのgoogleのトレンドクエリ（unemploy、filling、job）を含むデータセット\n",
        "\n",
        "# log-transformed data\n",
        "state_df = load_iclaims()\n",
        "\n",
        "# state_df[\"month\"] = state_df[\"week\"].dt.to_period(\"M\").dt.to_timestamp()\n",
        "# state_df = state_df.groupby(\"month\").mean()[['claims', 'trend.unemploy', 'trend.filling', 'trend.job']].reset_index()\n",
        "# train-test split\n",
        "train_df = state_df.query(\"week < '2017-01-01'\")\n",
        "test_df = state_df.query(\"'2018-01-01' > week >= '2017-01-01'\")"
      ],
      "metadata": {
        "id": "kxKIUwmFTi7o"
      },
      "execution_count": 22,
      "outputs": []
    },
    {
      "cell_type": "code",
      "source": [
        "dlt = DLT(\n",
        "  response_col='claims', date_col='week',\n",
        "  regressor_col=['trend.unemploy', 'trend.filling', 'trend.job'],\n",
        "  seasonality=52, \n",
        "  prediction_percentiles=[5, 95]\n",
        ")\n",
        "dlt.fit(df=train_df)\n",
        "\n",
        "# outcomes data frame\n",
        "predicted_df = dlt.predict(df=test_df)"
      ],
      "metadata": {
        "colab": {
          "base_uri": "https://localhost:8080/"
        },
        "id": "TflKJkBAT2a_",
        "outputId": "529430a0-a3d7-400a-f9b9-a2265b2df300"
      },
      "execution_count": 85,
      "outputs": [
        {
          "output_type": "stream",
          "name": "stderr",
          "text": [
            "WARNING:pystan:Maximum (flat) parameter count (1000) exceeded: skipping diagnostic tests for n_eff and Rhat.\n",
            "To run all diagnostics call pystan.check_hmc_diagnostics(fit)\n"
          ]
        }
      ]
    },
    {
      "cell_type": "code",
      "source": [
        "plot_predicted_data(\n",
        "  training_actual_df=train_df, predicted_df=predicted_df,\n",
        "  date_col=dlt.date_col, actual_col=dlt.response_col,\n",
        "  test_actual_df=test_df\n",
        ")"
      ],
      "metadata": {
        "colab": {
          "base_uri": "https://localhost:8080/",
          "height": 659
        },
        "id": "HyL7secST72L",
        "outputId": "29c854c5-69c3-4fad-9a96-5a4dffbd3f98"
      },
      "execution_count": 84,
      "outputs": [
        {
          "output_type": "display_data",
          "data": {
            "text/plain": [
              "<Figure size 1600x800 with 1 Axes>"
            ],
            "image/png": "[encoded data removed]"
          },
          "metadata": {}
        },
        {
          "output_type": "execute_result",
          "data": {
            "text/plain": [
              "<matplotlib.axes._subplots.AxesSubplot at 0x7fe607630580>"
            ]
          },
          "metadata": {},
          "execution_count": 84
        }
      ]
    },
    {
      "cell_type": "code",
      "source": [],
      "metadata": {
        "id": "qNEOmYV1V_Q8"
      },
      "execution_count": null,
      "outputs": []
    }
  ]
}